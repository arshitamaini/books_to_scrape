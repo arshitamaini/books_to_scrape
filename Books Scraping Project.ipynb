{
 "cells": [
  {
   "cell_type": "code",
   "execution_count": 110,
   "metadata": {
    "scrolled": true
   },
   "outputs": [],
   "source": [
    "!pip install requests --upgrade --quiet"
   ]
  },
  {
   "cell_type": "code",
   "execution_count": 111,
   "metadata": {},
   "outputs": [],
   "source": [
    "!pip install beautifulsoup4 --upgrade --quiet"
   ]
  },
  {
   "cell_type": "code",
   "execution_count": 112,
   "metadata": {},
   "outputs": [],
   "source": [
    "import os"
   ]
  },
  {
   "cell_type": "code",
   "execution_count": 113,
   "metadata": {},
   "outputs": [],
   "source": [
    "import pandas as pd"
   ]
  },
  {
   "cell_type": "markdown",
   "metadata": {},
   "source": [
    "#### Create a function to return a document having all the html info parsed to it"
   ]
  },
  {
   "cell_type": "code",
   "execution_count": 85,
   "metadata": {},
   "outputs": [],
   "source": [
    "import requests\n",
    "from bs4 import BeautifulSoup\n",
    "\n",
    "def get_books_page():\n",
    "    # Download the page which we need to scrape\n",
    "    web_url = 'http://books.toscrape.com/index.html'\n",
    "    r = requests.get(web_url)\n",
    "    if r.status_code != 200:\n",
    "        raise Exception('Failed to load page {}'.format(web_url))\n",
    "    books_doc = BeautifulSoup(r.text, 'html.parser')\n",
    "    return books_doc"
   ]
  },
  {
   "cell_type": "markdown",
   "metadata": {},
   "source": [
    "#### Create a Function to extract the list of all the genre of books"
   ]
  },
  {
   "cell_type": "code",
   "execution_count": 62,
   "metadata": {},
   "outputs": [],
   "source": [
    "def get_book_genre(books_doc):\n",
    "    tag =books_doc.find_all('ul', {'class' : 'nav nav-list'})\n",
    "    li_tag = tag[0].find_all('ul')\n",
    "    genre_tag = li_tag[0].find_all('a')\n",
    "    genre_title = []\n",
    "    for x in genre_tag:\n",
    "        genre_title.append(x.text.strip())\n",
    "    return genre_title"
   ]
  },
  {
   "cell_type": "markdown",
   "metadata": {},
   "source": [
    "#### Create a finction to extract the URL's all of genres"
   ]
  },
  {
   "cell_type": "code",
   "execution_count": 65,
   "metadata": {},
   "outputs": [],
   "source": [
    "def get_genre_url(books_doc):\n",
    "    tag =books_doc.find_all('ul', {'class' : 'nav nav-list'})\n",
    "    li_tag = tag[0].find_all('ul')\n",
    "    genre_tag = li_tag[0].find_all('a')\n",
    "    genre_url =[]\n",
    "    base_url = 'http://books.toscrape.com/index.html'\n",
    "    for y in genre_tag:\n",
    "        genre_url.append(base_url + y['href'])\n",
    "    return genre_url"
   ]
  },
  {
   "cell_type": "markdown",
   "metadata": {},
   "source": [
    "#### Let put this together in a single function"
   ]
  },
  {
   "cell_type": "code",
   "execution_count": 66,
   "metadata": {},
   "outputs": [],
   "source": [
    "def scrape_genre_info():\n",
    "    web_url = 'http://books.toscrape.com/index.html'\n",
    "    r = requests.get(web_url)\n",
    "    if r.status_code != 200:\n",
    "        raise Exception('Failed to load page {}'.format(web_url))\n",
    "    books_doc = BeautifulSoup(r.text, 'html.parser')\n",
    "    genre_dict = {\n",
    "        'title': get_book_genre(books_doc),\n",
    "        'url': get_genre_url(books_doc)\n",
    "    }\n",
    "    return pd.DataFrame(genre_dict)"
   ]
  },
  {
   "cell_type": "code",
   "execution_count": 86,
   "metadata": {},
   "outputs": [],
   "source": [
    "book_doc = get_books_page()"
   ]
  },
  {
   "cell_type": "code",
   "execution_count": 148,
   "metadata": {},
   "outputs": [],
   "source": [
    "title = get_book_genre(book_doc)"
   ]
  },
  {
   "cell_type": "code",
   "execution_count": 149,
   "metadata": {},
   "outputs": [],
   "source": [
    "url = get_genre_url(book_doc) "
   ]
  },
  {
   "cell_type": "code",
   "execution_count": 150,
   "metadata": {},
   "outputs": [],
   "source": [
    "dataframe = scrape_genre_info()"
   ]
  },
  {
   "cell_type": "markdown",
   "metadata": {},
   "source": [
    "#### Convert this information into CSV file"
   ]
  },
  {
   "cell_type": "code",
   "execution_count": 151,
   "metadata": {},
   "outputs": [],
   "source": [
    "dataframe.to_csv('genre_page_info.csv',index=None)"
   ]
  },
  {
   "cell_type": "markdown",
   "metadata": {},
   "source": [
    "### Getting the information of books of each genre"
   ]
  },
  {
   "cell_type": "markdown",
   "metadata": {},
   "source": [
    "#### Downloading the genre pages"
   ]
  },
  {
   "cell_type": "code",
   "execution_count": 152,
   "metadata": {},
   "outputs": [],
   "source": [
    "def get_genre_page(genre_url):\n",
    "    # Download the page\n",
    "    r = requests.get(genre_url)\n",
    "    # Parse using Beautiful soup\n",
    "    genre_doc = BeautifulSoup(r.text, 'html.parser')\n",
    "    return genre_doc"
   ]
  },
  {
   "cell_type": "code",
   "execution_count": 153,
   "metadata": {},
   "outputs": [],
   "source": [
    "def get_book_info(h3_tag, price_tag):\n",
    "    # returns all the required info about a book\n",
    "    a_tags = h3_tag.find_all('a')\n",
    "    title = a_tags[0]['title']\n",
    "    book_url =  base_url + a_tags[0]['href']\n",
    "    price = price_tag.text.strip()\n",
    "    return title, book_url, price"
   ]
  },
  {
   "cell_type": "code",
   "execution_count": 157,
   "metadata": {},
   "outputs": [],
   "source": [
    "def get_books(genre_doc):\n",
    "    h3_tag = genre_doc.find_all('h3')\n",
    "    price_tag = genre_doc.find_all('p', {'class' : 'price_color'})\n",
    "    \n",
    "    book_info_dict = {'title': [],\n",
    "                      'book_url': [],\n",
    "                      'book_price': []}\n",
    "    \n",
    "    for l in range(len(h3_tag)):\n",
    "        \n",
    "        book_info = get_book_info(h3_tag[i], price_tag[i])\n",
    "        \n",
    "        book_info_dict['title'].append(book_info[0])\n",
    "        book_info_dict['book_url'].append(book_info[1])\n",
    "        book_info_dict['price'].append(book_info[2])\n",
    "        \n",
    "    final_dict_df = pd.DataFrame(book_info_dict)\n",
    "        \n",
    "    return final_dict_df"
   ]
  },
  {
   "cell_type": "code",
   "execution_count": 158,
   "metadata": {},
   "outputs": [],
   "source": [
    "def scrape_book(genre_url, path):\n",
    "    if os.path.exists(path):\n",
    "        print(\"The file {} already exists. Skipping...\".format(path))\n",
    "        return\n",
    "    genre_df = get_books(get_genre_page(genre_url))\n",
    "    genre_df.to_csv(path , index=None)\n"
   ]
  },
  {
   "cell_type": "code",
   "execution_count": 159,
   "metadata": {},
   "outputs": [],
   "source": [
    "def scrape_topics_repos():\n",
    "    print('Scraping list of topics')\n",
    "    genres_df = scrape_genre_info()\n",
    "    \n",
    "    for index,row in genres_df.iterrows():\n",
    "        print('Scraping top repositories for \"{}\"'.format(row['title']))\n",
    "        scrape_book(row['url'], row['title'])"
   ]
  },
  {
   "cell_type": "code",
   "execution_count": null,
   "metadata": {},
   "outputs": [
    {
     "name": "stdout",
     "output_type": "stream",
     "text": [
      "Scraping list of topics\n",
      "Scraping top repositories for \"Travel\"\n",
      "Scraping top repositories for \"Mystery\"\n",
      "Scraping top repositories for \"Historical Fiction\"\n",
      "Scraping top repositories for \"Sequential Art\"\n",
      "Scraping top repositories for \"Classics\"\n",
      "Scraping top repositories for \"Philosophy\"\n",
      "Scraping top repositories for \"Romance\"\n"
     ]
    }
   ],
   "source": [
    "scrape_topics_repos()"
   ]
  },
  {
   "cell_type": "code",
   "execution_count": null,
   "metadata": {},
   "outputs": [],
   "source": []
  }
 ],
 "metadata": {
  "kernelspec": {
   "display_name": "Python 3",
   "language": "python",
   "name": "python3"
  },
  "language_info": {
   "codemirror_mode": {
    "name": "ipython",
    "version": 3
   },
   "file_extension": ".py",
   "mimetype": "text/x-python",
   "name": "python",
   "nbconvert_exporter": "python",
   "pygments_lexer": "ipython3",
   "version": "3.8.5"
  }
 },
 "nbformat": 4,
 "nbformat_minor": 4
}
